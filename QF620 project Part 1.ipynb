{
 "cells": [
  {
   "cell_type": "markdown",
   "metadata": {},
   "source": [
    "## QF620 Project"
   ]
  },
  {
   "cell_type": "markdown",
   "metadata": {},
   "source": [
    "##  Part I (Analytical Option Formula)\n",
    "\n",
    "Consider the following European options: \n",
    "\n",
    "- Vanilla call/put \n",
    "- Digital cash-or-nothing call/put \n",
    "- Digital asset-or-nothing call/put\n",
    "\n",
    "Derive and implement the following models to value these options in Python: \n",
    "\n",
    "- 1 Black-Scholes model \n",
    "- 2 Bachelier model \n",
    "- 3 Black76 model \n",
    "- 4 Displaced-diﬀusion model"
   ]
  },
  {
   "cell_type": "code",
   "execution_count": 2,
   "metadata": {},
   "outputs": [],
   "source": [
    "import pandas as pd\n",
    "import numpy as np\n",
    "import matplotlib.pyplot as plt\n",
    "import datetime\n",
    "from scipy.stats import norm\n",
    "from scipy.optimize import brentq\n",
    "from scipy.interpolate import interp1d\n",
    "from math import log, sqrt, exp\n",
    "from scipy.optimize import least_squares\n",
    "%matplotlib inline"
   ]
  },
  {
   "cell_type": "markdown",
   "metadata": {},
   "source": [
    "### Vanilla call"
   ]
  },
  {
   "cell_type": "markdown",
   "metadata": {},
   "source": [
    "#### Black-Scholes model"
   ]
  },
  {
   "cell_type": "code",
   "execution_count": 10,
   "metadata": {},
   "outputs": [],
   "source": [
    "#正常Black Scholes\n",
    "def BlackScholesCall(S, K, r, sigma, T):\n",
    "    d1 = (np.log(S / K) + (r + sigma ** 2 / 2) * T) / (sigma * np.sqrt(T))\n",
    "    d2 = d1 - sigma * np.sqrt(T)\n",
    "    return S * norm.cdf(d1) - K * np.exp(-r * T) * norm.cdf(d2)"
   ]
  },
  {
   "cell_type": "code",
   "execution_count": 17,
   "metadata": {},
   "outputs": [],
   "source": [
    "#Stock as numeraire\n",
    "def BlackScholesCall(S, K, r, sigma, T):\n",
    "    d1 = (np.log(S / K) + (r - sigma ** 2 / 2) * T) / (sigma * np.sqrt(T))\n",
    "    d2 = d1 - sigma * np.sqrt(T)\n",
    "    return S * np.exp(-r * T) * norm.cdf(d1) - K * np.exp(sigma**2*T) * norm.cdf(d2)"
   ]
  },
  {
   "cell_type": "code",
   "execution_count": 19,
   "metadata": {},
   "outputs": [
    {
     "data": {
      "text/plain": [
       "3.987761167674492"
      ]
     },
     "execution_count": 19,
     "metadata": {},
     "output_type": "execute_result"
    }
   ],
   "source": [
    "BlackScholesCall(100, 100, 0.01, 0.1, 1)"
   ]
  },
  {
   "cell_type": "code",
   "execution_count": 21,
   "metadata": {},
   "outputs": [
    {
     "data": {
      "text/plain": [
       "0.5987063256149838"
      ]
     },
     "execution_count": 21,
     "metadata": {},
     "output_type": "execute_result"
    }
   ],
   "source": [
    "change = 0.001\n",
    "a = BlackScholesCall(100+change, 100, 0.03, 0.2, 1)\n",
    "b = BlackScholesCall(100-change, 100, 0.03, 0.2, 1)\n",
    "delta = (a-b)/(change*2)\n",
    "delta"
   ]
  },
  {
   "cell_type": "code",
   "execution_count": 25,
   "metadata": {},
   "outputs": [
    {
     "data": {
      "text/plain": [
       "38.666811181862215"
      ]
     },
     "execution_count": 25,
     "metadata": {},
     "output_type": "execute_result"
    }
   ],
   "source": [
    "change = 0.001\n",
    "a = BlackScholesCall(100, 100, 0.03, 0.2*(1+change), 1)\n",
    "b = BlackScholesCall(100, 100, 0.03, 0.2*(1-change), 1)\n",
    "vega = (a-b)/(0.2*change*2)\n",
    "vega"
   ]
  },
  {
   "cell_type": "code",
   "execution_count": 27,
   "metadata": {},
   "outputs": [
    {
     "data": {
      "text/plain": [
       "-5.381433838373084"
      ]
     },
     "execution_count": 27,
     "metadata": {},
     "output_type": "execute_result"
    }
   ],
   "source": [
    "change = 0.001\n",
    "a = BlackScholesCall(100, 100, 0.03, 0.2, 1)\n",
    "b = BlackScholesCall(100, 100, 0.03, 0.2, 1-change)\n",
    "theta = (b-a)/(change)\n",
    "theta"
   ]
  },
  {
   "cell_type": "code",
   "execution_count": null,
   "metadata": {},
   "outputs": [],
   "source": []
  },
  {
   "cell_type": "code",
   "execution_count": null,
   "metadata": {},
   "outputs": [],
   "source": []
  },
  {
   "cell_type": "code",
   "execution_count": null,
   "metadata": {},
   "outputs": [],
   "source": []
  },
  {
   "cell_type": "code",
   "execution_count": 16,
   "metadata": {},
   "outputs": [],
   "source": [
    "def BlackScholesCallDelta(S, K, r, sigma, T):\n",
    "    d1 = (np.log(S / K) + (r + sigma ** 2 / 2) * T) / (sigma * np.sqrt(T))\n",
    "    d2 = d1 - sigma * np.sqrt(T)\n",
    "    return norm.cdf(d1)"
   ]
  },
  {
   "cell_type": "code",
   "execution_count": 7,
   "metadata": {},
   "outputs": [],
   "source": [
    "def BlackScholesCalld1(S, K, r, sigma, T):\n",
    "    d1 = (np.log(S / K) + (r + sigma ** 2 / 2) * T) / (sigma * np.sqrt(T))\n",
    "    d2 = d1 - sigma * np.sqrt(T)\n",
    "    return d1"
   ]
  },
  {
   "cell_type": "code",
   "execution_count": 17,
   "metadata": {},
   "outputs": [],
   "source": [
    "def BlackScholesCallNd2(S, K, r, sigma, T):\n",
    "    d1 = (np.log(S / K) + (r + sigma ** 2 / 2) * T) / (sigma * np.sqrt(T))\n",
    "    d2 = d1 - sigma * np.sqrt(T)\n",
    "    return norm.cdf(d2)"
   ]
  },
  {
   "cell_type": "markdown",
   "metadata": {},
   "source": [
    "#### Bachelier model"
   ]
  },
  {
   "cell_type": "code",
   "execution_count": 3,
   "metadata": {},
   "outputs": [],
   "source": [
    "def BachelierCall(S,K,r,sigma,T):\n",
    "    d1=(S-K) / (S * sigma * np.sqrt(T))\n",
    "    return (S-K) * norm.cdf(d1) + S * sigma * np.sqrt(T) * norm.pdf(d1)"
   ]
  },
  {
   "cell_type": "markdown",
   "metadata": {},
   "source": [
    "#### Black76 model "
   ]
  },
  {
   "cell_type": "code",
   "execution_count": 31,
   "metadata": {},
   "outputs": [],
   "source": [
    "def Black76Call(F,K,r,sigma,T):\n",
    "    d1= (np.log(F / K )+(1 / 2) * sigma ** 2 * T) / (sigma * np.sqrt(T))\n",
    "    d2=d1 - sigma * np.sqrt(T)\n",
    "    return np.exp(-r * T) * (F * norm.cdf(d1) - K * norm.cdf(d2))"
   ]
  },
  {
   "cell_type": "code",
   "execution_count": 32,
   "metadata": {},
   "outputs": [],
   "source": [
    "def Black76Put(F,K,r,sigma,T):\n",
    "    d1 = (np.log(F / K) + (1 / 2) * sigma ** 2 * T) / (sigma * np.sqrt(T))\n",
    "    d2 = d1 - sigma * np.sqrt(T)\n",
    "    return np.exp(-r * T) * (K * norm.cdf(-d2) - F * norm.cdf(-d1))"
   ]
  },
  {
   "cell_type": "code",
   "execution_count": 33,
   "metadata": {},
   "outputs": [
    {
     "data": {
      "text/plain": [
       "3.9480822810875194"
      ]
     },
     "execution_count": 33,
     "metadata": {},
     "output_type": "execute_result"
    }
   ],
   "source": [
    "Black76Call(100,100,0.01,0.1,1)"
   ]
  },
  {
   "cell_type": "code",
   "execution_count": 34,
   "metadata": {},
   "outputs": [
    {
     "data": {
      "text/plain": [
       "3.9480822810875194"
      ]
     },
     "execution_count": 34,
     "metadata": {},
     "output_type": "execute_result"
    }
   ],
   "source": [
    "Black76Put(100,100,0.01,0.1,1)"
   ]
  },
  {
   "cell_type": "markdown",
   "metadata": {},
   "source": [
    "#### Displaced-diﬀusion model"
   ]
  },
  {
   "cell_type": "code",
   "execution_count": 5,
   "metadata": {},
   "outputs": [],
   "source": [
    "def Displaced_diffusionCall(F,K,r,sigma,T,beta):\n",
    "    Fd = F / beta\n",
    "    sigmad = sigma * beta\n",
    "    Kd = K + ((1-beta) / beta) * F\n",
    "    d1 = (np.log(Fd / Kd) + (sigmad ** 2 / 2) * T) / (sigmad * np.sqrt(T))\n",
    "    d2 = d1 - sigmad * np.sqrt(T)\n",
    "    return np.exp(-r * T) * (Fd * norm.cdf(d1) - Kd * norm.cdf(d2))"
   ]
  },
  {
   "cell_type": "markdown",
   "metadata": {},
   "source": [
    "### Vanilla put"
   ]
  },
  {
   "cell_type": "markdown",
   "metadata": {},
   "source": [
    "#### Black-Scholes model"
   ]
  },
  {
   "cell_type": "code",
   "execution_count": 29,
   "metadata": {},
   "outputs": [],
   "source": [
    "def BlackScholesPut(S, K, r, sigma, T):\n",
    "    d1 = (np.log(S / K) + (r + sigma ** 2/2) * T) / (sigma * np.sqrt(T))\n",
    "    d2 = d1 - sigma * np.sqrt(T)\n",
    "    return K * np.exp(-r * T) * norm.cdf(-d2) - S * norm.cdf(-d1)"
   ]
  },
  {
   "cell_type": "markdown",
   "metadata": {},
   "source": [
    "#### Bachelier model"
   ]
  },
  {
   "cell_type": "code",
   "execution_count": 7,
   "metadata": {},
   "outputs": [],
   "source": [
    "def BachelierPut(S,K,r,sigma,T):\n",
    "    d1 = (S-K) / (S * sigma * np.sqrt(T))\n",
    "    return (K-S) * norm.cdf(-d1) + S *sigma * np.sqrt(T) * norm.pdf(-d1)"
   ]
  },
  {
   "cell_type": "markdown",
   "metadata": {},
   "source": [
    "#### Black76 model "
   ]
  },
  {
   "cell_type": "code",
   "execution_count": 8,
   "metadata": {},
   "outputs": [],
   "source": [
    "def Black76Put(F,K,r,sigma,T):\n",
    "    d1 = (np.log(F / K) + (1 / 2) * sigma ** 2 * T) / (sigma * np.sqrt(T))\n",
    "    d2 = d1 - sigma * np.sqrt(T)\n",
    "    return np.exp(-r * T) * (K * norm.cdf(-d2) - F * norm.cdf(-d1))"
   ]
  },
  {
   "cell_type": "markdown",
   "metadata": {},
   "source": [
    "#### Displaced-diﬀusion model"
   ]
  },
  {
   "cell_type": "code",
   "execution_count": 9,
   "metadata": {},
   "outputs": [],
   "source": [
    "def Displaced_diffusionPut(F,K,r,sigma,T,beta):\n",
    "    Fd = F / beta\n",
    "    sigmad = sigma * beta\n",
    "    Kd = K + ((1 - beta) / beta) * F\n",
    "    d1 = (np.log(Fd / Kd) + (sigmad ** 2 / 2) * T) / (sigmad * np.sqrt(T))\n",
    "    d2 = d1 - sigmad * np.sqrt(T)\n",
    "    return np.exp(-r * T) * (Kd * norm.cdf(-d2) - Fd * norm.cdf(-d1))"
   ]
  },
  {
   "cell_type": "markdown",
   "metadata": {},
   "source": [
    "### Digital cash-or-nothing call"
   ]
  },
  {
   "cell_type": "markdown",
   "metadata": {},
   "source": [
    "#### Black-Scholes model"
   ]
  },
  {
   "cell_type": "code",
   "execution_count": 10,
   "metadata": {},
   "outputs": [],
   "source": [
    "def BlackScholesCall_Di_Ca(S, K, r, sigma, T):\n",
    "    d1 = (np.log(S / K) + (r + sigma ** 2 / 2) * T) / (sigma * np.sqrt(T))\n",
    "    d2 = d1 - sigma * np.sqrt(T)\n",
    "    return np.exp(-r * T) * norm.cdf(d2)"
   ]
  },
  {
   "cell_type": "markdown",
   "metadata": {},
   "source": [
    "#### Bachelier model"
   ]
  },
  {
   "cell_type": "code",
   "execution_count": 11,
   "metadata": {},
   "outputs": [],
   "source": [
    "def BachelierCall_Di_Ca(S,K,r,sigma,T):\n",
    "    d1=(S-K) / (S * sigma * np.sqrt(T))\n",
    "    return norm.cdf(d1)"
   ]
  },
  {
   "cell_type": "markdown",
   "metadata": {},
   "source": [
    "#### Black76 model "
   ]
  },
  {
   "cell_type": "code",
   "execution_count": 12,
   "metadata": {},
   "outputs": [],
   "source": [
    "def Black76Call_Di_Ca(F,K,r,sigma,T):\n",
    "    d1 = (np.log(F / K )+(1 / 2) * sigma ** 2 * T) / (sigma * np.sqrt(T))\n",
    "    d2 = d1 - sigma * np.sqrt(T)\n",
    "    return np.exp(-r * T) * norm.cdf(d2)"
   ]
  },
  {
   "cell_type": "markdown",
   "metadata": {},
   "source": [
    "#### Displaced-diﬀusion model"
   ]
  },
  {
   "cell_type": "code",
   "execution_count": 13,
   "metadata": {},
   "outputs": [],
   "source": [
    "def Displaced_diffusionCall_Di_Ca(F,K,r,sigma,T,beta):\n",
    "    Fd = F / beta\n",
    "    sigmad = sigma * beta\n",
    "    Kd = K + ((1-beta) / beta) * F\n",
    "    d1 = (np.log(Fd / Kd) + (sigmad ** 2 / 2) * T) / (sigmad * np.sqrt(T))\n",
    "    d2 = d1 - sigmad * np.sqrt(T)\n",
    "    return np.exp(-r * T) * norm.cdf(d2)"
   ]
  },
  {
   "cell_type": "markdown",
   "metadata": {},
   "source": [
    "### Digital cash-or-nothing put"
   ]
  },
  {
   "cell_type": "markdown",
   "metadata": {},
   "source": [
    "#### Black-Scholes model"
   ]
  },
  {
   "cell_type": "code",
   "execution_count": 14,
   "metadata": {},
   "outputs": [],
   "source": [
    "def BlackScholesPut_Di_Ca(S, K, r, sigma, T):\n",
    "    d1 = (np.log(S / K) + (r + sigma ** 2/2) * T) / (sigma * np.sqrt(T))\n",
    "    d2 = d1 - sigma * np.sqrt(T)\n",
    "    return np.exp(-r * T) * norm.cdf(-d2)"
   ]
  },
  {
   "cell_type": "markdown",
   "metadata": {},
   "source": [
    "#### Bachelier model"
   ]
  },
  {
   "cell_type": "code",
   "execution_count": 15,
   "metadata": {},
   "outputs": [],
   "source": [
    "def BachelierPut_Di_Ca(S,K,r,sigma,T):\n",
    "    d1 = (S-K) / (S * sigma * np.sqrt(T))\n",
    "    return norm.cdf(-d1)"
   ]
  },
  {
   "cell_type": "markdown",
   "metadata": {},
   "source": [
    "#### Black76 model "
   ]
  },
  {
   "cell_type": "code",
   "execution_count": 16,
   "metadata": {},
   "outputs": [],
   "source": [
    "def Black76Put_Di_Ca(F,K,r,sigma,T):\n",
    "    d1 = (np.log(F / K) + (1 / 2) * sigma ** 2 * T) / (sigma * np.sqrt(T))\n",
    "    d2 = d1 - sigma * np.sqrt(T)\n",
    "    return np.exp(-r * T) * norm.cdf(-d2)"
   ]
  },
  {
   "cell_type": "markdown",
   "metadata": {},
   "source": [
    "#### Displaced-diﬀusion model"
   ]
  },
  {
   "cell_type": "code",
   "execution_count": 17,
   "metadata": {},
   "outputs": [],
   "source": [
    "def Displaced_diffusionPut_Di_Ca(F,K,r,sigma,T,beta):\n",
    "    Fd = F / beta\n",
    "    sigmad = sigma * beta\n",
    "    Kd = K + ((1 - beta) / beta) * F\n",
    "    d1 = (np.log(Fd / Kd) + (sigmad ** 2 / 2) * T) / (sigmad * np.sqrt(T))\n",
    "    d2 = d1 - sigmad * np.sqrt(T)\n",
    "    return np.exp(-r * T) * norm.cdf(-d2)"
   ]
  },
  {
   "cell_type": "markdown",
   "metadata": {},
   "source": [
    "### Digital asset-or-nothing call"
   ]
  },
  {
   "cell_type": "markdown",
   "metadata": {},
   "source": [
    "#### Black-Scholes model"
   ]
  },
  {
   "cell_type": "code",
   "execution_count": 18,
   "metadata": {},
   "outputs": [],
   "source": [
    "def BlackScholesCall_Di_As(S, K, r, sigma, T):\n",
    "    d1 = (np.log(S / K) + (r + sigma ** 2 / 2) * T) / (sigma * np.sqrt(T))\n",
    "    d2 = d1 - sigma * np.sqrt(T)\n",
    "    return S * norm.cdf(d1)"
   ]
  },
  {
   "cell_type": "markdown",
   "metadata": {},
   "source": [
    "#### Bachelier model"
   ]
  },
  {
   "cell_type": "code",
   "execution_count": 19,
   "metadata": {},
   "outputs": [],
   "source": [
    "def BachelierCall_Di_As(S,K,r,sigma,T):\n",
    "    d1=(S-K) / (S * sigma * np.sqrt(T))\n",
    "    return S * norm.cdf(d1) + S * sigma * np.sqrt(T) * norm.pdf(d1)"
   ]
  },
  {
   "cell_type": "markdown",
   "metadata": {},
   "source": [
    "#### Black76 model "
   ]
  },
  {
   "cell_type": "code",
   "execution_count": 21,
   "metadata": {},
   "outputs": [],
   "source": [
    "def Black76Call_Di_As(F,K,r,sigma,T):\n",
    "    d1= (np.log(F / K )+(1 / 2) * sigma ** 2 * T) / (sigma * np.sqrt(T))\n",
    "    d2=d1 - sigma * np.sqrt(T)\n",
    "    return np.exp(-r * T) * F * norm.cdf(d1)"
   ]
  },
  {
   "cell_type": "markdown",
   "metadata": {},
   "source": [
    "#### Displaced-diﬀusion model"
   ]
  },
  {
   "cell_type": "code",
   "execution_count": 22,
   "metadata": {},
   "outputs": [],
   "source": [
    "def Displaced_diffusionCall_Di_As(F,K,r,sigma,T,beta):\n",
    "    Fd = F / beta\n",
    "    sigmad = sigma * beta\n",
    "    Kd = K + ((1-beta) / beta) * F\n",
    "    d1 = (np.log(Fd / Kd) + (sigmad ** 2 / 2) * T) / (sigmad * np.sqrt(T))\n",
    "    d2 = d1 - sigmad * np.sqrt(T)\n",
    "    return np.exp(-r * T) * Fd * norm.cdf(d1)"
   ]
  },
  {
   "cell_type": "markdown",
   "metadata": {},
   "source": [
    "### Digital asset-or-nothing put"
   ]
  },
  {
   "cell_type": "markdown",
   "metadata": {},
   "source": [
    "#### Black-Scholes model"
   ]
  },
  {
   "cell_type": "code",
   "execution_count": 23,
   "metadata": {},
   "outputs": [],
   "source": [
    "def BlackScholesPut_Di_As(S, K, r, sigma, T):\n",
    "    d1 = (np.log(S / K) + (r + sigma ** 2/2) * T) / (sigma * np.sqrt(T))\n",
    "    d2 = d1 - sigma * np.sqrt(T)\n",
    "    return S * norm.cdf(-d1)"
   ]
  },
  {
   "cell_type": "markdown",
   "metadata": {},
   "source": [
    "#### Bachelier model"
   ]
  },
  {
   "cell_type": "code",
   "execution_count": 24,
   "metadata": {},
   "outputs": [],
   "source": [
    "def BachelierPut_Di_As(S,K,r,sigma,T):\n",
    "    d1 = (S-K) / (S * sigma * np.sqrt(T))\n",
    "    return S * norm.cdf(-d1) + S *sigma * np.sqrt(T) * norm.pdf(-d1)"
   ]
  },
  {
   "cell_type": "markdown",
   "metadata": {},
   "source": [
    "#### Black76 model "
   ]
  },
  {
   "cell_type": "code",
   "execution_count": 25,
   "metadata": {},
   "outputs": [],
   "source": [
    "def Black76Put_Di_As(F,K,r,sigma,T):\n",
    "    d1 = (np.log(F / K) + (1 / 2) * sigma ** 2 * T) / (sigma * np.sqrt(T))\n",
    "    d2 = d1 - sigma * np.sqrt(T)\n",
    "    return np.exp(-r * T) *  F * norm.cdf(-d1)"
   ]
  },
  {
   "cell_type": "markdown",
   "metadata": {},
   "source": [
    "#### Displaced-diﬀusion model"
   ]
  },
  {
   "cell_type": "code",
   "execution_count": 26,
   "metadata": {},
   "outputs": [],
   "source": [
    "def Displaced_diffusionPut_Di_As(F,K,r,sigma,T,beta):\n",
    "    Fd = F / beta\n",
    "    sigmad = sigma * beta\n",
    "    Kd = K + ((1 - beta) / beta) * F\n",
    "    d1 = (np.log(Fd / Kd) + (sigmad ** 2 / 2) * T) / (sigmad * np.sqrt(T))\n",
    "    d2 = d1 - sigmad * np.sqrt(T)\n",
    "    return np.exp(-r * T) * Fd * norm.cdf(-d1)"
   ]
  }
 ],
 "metadata": {
  "kernelspec": {
   "display_name": "Python 3",
   "language": "python",
   "name": "python3"
  },
  "language_info": {
   "codemirror_mode": {
    "name": "ipython",
    "version": 3
   },
   "file_extension": ".py",
   "mimetype": "text/x-python",
   "name": "python",
   "nbconvert_exporter": "python",
   "pygments_lexer": "ipython3",
   "version": "3.8.3"
  }
 },
 "nbformat": 4,
 "nbformat_minor": 4
}
